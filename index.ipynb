{
 "cells": [
  {
   "cell_type": "code",
   "execution_count": 14,
   "metadata": {},
   "outputs": [
    {
     "name": "stdout",
     "output_type": "stream",
     "text": [
      "The dotenv extension is already loaded. To reload it, use:\n",
      "  %reload_ext dotenv\n"
     ]
    }
   ],
   "source": [
    "#| hide\n",
    "from omeka_s_tools2.api import OmekaAPIClient\n",
    "%load_ext dotenv\n",
    "%dotenv"
   ]
  },
  {
   "cell_type": "markdown",
   "metadata": {},
   "source": [
    "# Omeka S Tools\n",
    "\n",
    "> Tools for working with data in an instance of Omeka S"
   ]
  },
  {
   "cell_type": "markdown",
   "metadata": {},
   "source": [
    "## Install"
   ]
  },
  {
   "cell_type": "markdown",
   "metadata": {},
   "source": [
    "`pip install omeka-s-tools2`"
   ]
  },
  {
   "cell_type": "markdown",
   "metadata": {},
   "source": [
    "## How to use\n",
    "\n",
    "[See the documentation](https://nakamura196.github.io/omeka_s_tools/api.html) for full details of the Omeka API Client."
   ]
  },
  {
   "cell_type": "code",
   "execution_count": 15,
   "metadata": {},
   "outputs": [],
   "source": [
    "from omeka_s_tools2.api import *\n",
    "\n",
    "omeka = OmekaAPIClient('http://timsherratt.org/collections/api')"
   ]
  },
  {
   "cell_type": "code",
   "execution_count": 16,
   "metadata": {},
   "outputs": [
    {
     "data": {
      "text/plain": [
       "140"
      ]
     },
     "execution_count": 16,
     "metadata": {},
     "output_type": "execute_result"
    }
   ],
   "source": [
    "items = omeka.get_resources('items')\n",
    "items['total_results']"
   ]
  },
  {
   "cell_type": "code",
   "execution_count": 17,
   "metadata": {},
   "outputs": [
    {
     "data": {
      "text/plain": [
       "{'@context': 'http://timsherratt.org/collections/api-context',\n",
       " '@id': 'http://timsherratt.org/collections/api/items/677',\n",
       " '@type': ['o:Item', 'schema:Newspaper'],\n",
       " 'o:id': 677,\n",
       " 'o:is_public': True,\n",
       " 'o:owner': {'@id': 'http://timsherratt.org/collections/api/users/1',\n",
       "  'o:id': 1},\n",
       " 'o:resource_class': {'@id': 'http://timsherratt.org/collections/api/resource_classes/161',\n",
       "  'o:id': 161},\n",
       " 'o:resource_template': {'@id': 'http://timsherratt.org/collections/api/resource_templates/5',\n",
       "  'o:id': 5},\n",
       " 'o:thumbnail': None,\n",
       " 'o:title': 'Manilla Express (NSW : 1899 - 1954)',\n",
       " 'thumbnail_display_urls': {'large': 'http://timsherratt.org/collections/files/large/aa1fb4063116fc889418ce6dc20af3cb7e7bd0db.jpg',\n",
       "  'medium': 'http://timsherratt.org/collections/files/medium/aa1fb4063116fc889418ce6dc20af3cb7e7bd0db.jpg',\n",
       "  'square': 'http://timsherratt.org/collections/files/square/aa1fb4063116fc889418ce6dc20af3cb7e7bd0db.jpg'},\n",
       " 'o:created': {'@value': '2022-01-20T06:37:50+00:00',\n",
       "  '@type': 'http://www.w3.org/2001/XMLSchema#dateTime'},\n",
       " 'o:modified': {'@value': '2022-01-20T06:37:50+00:00',\n",
       "  '@type': 'http://www.w3.org/2001/XMLSchema#dateTime'},\n",
       " 'o:media': [{'@id': 'http://timsherratt.org/collections/api/media/882',\n",
       "   'o:id': 882},\n",
       "  {'@id': 'http://timsherratt.org/collections/api/media/897', 'o:id': 897},\n",
       "  {'@id': 'http://timsherratt.org/collections/api/media/929', 'o:id': 929},\n",
       "  {'@id': 'http://timsherratt.org/collections/api/media/994', 'o:id': 994},\n",
       "  {'@id': 'http://timsherratt.org/collections/api/media/995', 'o:id': 995},\n",
       "  {'@id': 'http://timsherratt.org/collections/api/media/996', 'o:id': 996},\n",
       "  {'@id': 'http://timsherratt.org/collections/api/media/997', 'o:id': 997}],\n",
       " 'o:item_set': [],\n",
       " 'o:site': [],\n",
       " 'schema:name': [{'type': 'literal',\n",
       "   'property_id': 1116,\n",
       "   'property_label': 'name',\n",
       "   'is_public': True,\n",
       "   '@value': 'Manilla Express (NSW : 1899 - 1954)'}],\n",
       " 'schema:url': [{'type': 'uri',\n",
       "   'property_id': 393,\n",
       "   'property_label': 'url',\n",
       "   'is_public': True,\n",
       "   '@id': 'http://nla.gov.au/nla.news-title1006'}],\n",
       " 'schema:identifier': [{'type': 'literal',\n",
       "   'property_id': 190,\n",
       "   'property_label': 'identifier',\n",
       "   'is_public': True,\n",
       "   '@value': '1006'}],\n",
       " '@reverse': []}"
      ]
     },
     "execution_count": 17,
     "metadata": {},
     "output_type": "execute_result"
    }
   ],
   "source": [
    "items['results'][0]"
   ]
  },
  {
   "cell_type": "markdown",
   "metadata": {},
   "source": [
    "See [the documentation](https://nakamura196.github.io/omeka_s_tools/api.html) for more examples."
   ]
  },
  {
   "cell_type": "markdown",
   "metadata": {},
   "source": [
    "----\n",
    "Created by [Tim Sherratt](https://timsherratt.org) ([@wragge](https://twitter.com/wragge)) for the [GLAM Workbench](https://glam-workbench.net/).  \n",
    "Created by [@satoru196](https://twitter.com/satoru196)."
   ]
  }
 ],
 "metadata": {
  "kernelspec": {
   "display_name": "Python 3.7.13 ('base')",
   "language": "python",
   "name": "python3"
  },
  "language_info": {
   "codemirror_mode": {
    "name": "ipython",
    "version": 3
   },
   "file_extension": ".py",
   "mimetype": "text/x-python",
   "name": "python",
   "nbconvert_exporter": "python",
   "pygments_lexer": "ipython3",
   "version": "3.7.13"
  },
  "vscode": {
   "interpreter": {
    "hash": "bf49be5589313a36303aa13b9b73fd7928cd7144dd5f72664a6b344103bcbf47"
   }
  }
 },
 "nbformat": 4,
 "nbformat_minor": 4
}
