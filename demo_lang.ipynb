{
 "cells": [
  {
   "cell_type": "markdown",
   "metadata": {},
   "source": [
    "# Demo for `language` tag"
   ]
  },
  {
   "cell_type": "code",
   "execution_count": 1,
   "metadata": {},
   "outputs": [],
   "source": [
    "#| hide\n",
    "from omeka_s_tools2.api import OmekaAPIClient\n",
    "import os"
   ]
  },
  {
   "cell_type": "code",
   "execution_count": 2,
   "metadata": {},
   "outputs": [],
   "source": [
    "#| hide\n",
    "%load_ext dotenv\n",
    "%dotenv"
   ]
  },
  {
   "cell_type": "code",
   "execution_count": 3,
   "metadata": {},
   "outputs": [],
   "source": [
    "omeka_auth = OmekaAPIClient(\n",
    "    # api_url='https://timsherratt.org/collections/api',\n",
    "    api_url=os.getenv('API_URL'),\n",
    "    key_identity=os.getenv('KEY_IDENTITY'), \n",
    "    key_credential=os.getenv('KEY_CREDENTIAL'),\n",
    "    use_cache=False\n",
    ")"
   ]
  },
  {
   "cell_type": "code",
   "execution_count": 4,
   "metadata": {},
   "outputs": [],
   "source": [
    "test_item = {\n",
    "    'schema:name': [\n",
    "        {\n",
    "            'value': 'My first resource!',\n",
    "            \"lang\": \"ja\"\n",
    "        }\n",
    "    ]\n",
    "}"
   ]
  },
  {
   "cell_type": "code",
   "execution_count": 5,
   "metadata": {},
   "outputs": [
    {
     "data": {
      "text/plain": [
       "{'schema:name': [{'property_id': 2922,\n",
       "   'type': 'literal',\n",
       "   '@value': 'My first resource!',\n",
       "   '@language': 'ja'}]}"
      ]
     },
     "execution_count": 5,
     "metadata": {},
     "output_type": "execute_result"
    }
   ],
   "source": [
    "payload = omeka_auth.prepare_item_payload(test_item)\n",
    "payload"
   ]
  },
  {
   "cell_type": "code",
   "execution_count": 6,
   "metadata": {},
   "outputs": [
    {
     "data": {
      "text/plain": [
       "{'@context': 'https://omekas.aws.ldas.jp/sandbox/api-context',\n",
       " '@id': 'https://omekas.aws.ldas.jp/sandbox/api/items/8024',\n",
       " '@type': 'o:Item',\n",
       " 'o:id': 8024,\n",
       " 'o:is_public': True,\n",
       " 'o:owner': {'@id': 'https://omekas.aws.ldas.jp/sandbox/api/users/1',\n",
       "  'o:id': 1},\n",
       " 'o:resource_class': None,\n",
       " 'o:resource_template': None,\n",
       " 'o:thumbnail': None,\n",
       " 'o:title': None,\n",
       " 'thumbnail_display_urls': {'large': None, 'medium': None, 'square': None},\n",
       " 'o:created': {'@value': '2022-11-15T04:06:06+00:00',\n",
       "  '@type': 'http://www.w3.org/2001/XMLSchema#dateTime'},\n",
       " 'o:modified': {'@value': '2022-11-15T04:06:06+00:00',\n",
       "  '@type': 'http://www.w3.org/2001/XMLSchema#dateTime'},\n",
       " 'o:media': [],\n",
       " 'o:item_set': [],\n",
       " 'o:site': [{'@id': 'https://omekas.aws.ldas.jp/sandbox/api/sites/1',\n",
       "   'o:id': 1},\n",
       "  {'@id': 'https://omekas.aws.ldas.jp/sandbox/api/sites/2', 'o:id': 2}],\n",
       " 'schema:name': [{'type': 'literal',\n",
       "   'property_id': 2922,\n",
       "   'property_label': 'name',\n",
       "   'is_public': True,\n",
       "   '@value': 'My first resource!',\n",
       "   '@language': 'ja'}]}"
      ]
     },
     "execution_count": 6,
     "metadata": {},
     "output_type": "execute_result"
    }
   ],
   "source": [
    "new_item = omeka_auth.add_item(payload)\n",
    "new_item"
   ]
  }
 ],
 "metadata": {
  "kernelspec": {
   "display_name": "Python 3.7.13 ('base')",
   "language": "python",
   "name": "python3"
  },
  "language_info": {
   "codemirror_mode": {
    "name": "ipython",
    "version": 3
   },
   "file_extension": ".py",
   "mimetype": "text/x-python",
   "name": "python",
   "nbconvert_exporter": "python",
   "pygments_lexer": "ipython3",
   "version": "3.7.13"
  },
  "orig_nbformat": 4,
  "vscode": {
   "interpreter": {
    "hash": "bf49be5589313a36303aa13b9b73fd7928cd7144dd5f72664a6b344103bcbf47"
   }
  }
 },
 "nbformat": 4,
 "nbformat_minor": 2
}
